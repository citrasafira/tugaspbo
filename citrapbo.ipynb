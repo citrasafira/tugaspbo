{
  "nbformat": 4,
  "nbformat_minor": 0,
  "metadata": {
    "colab": {
      "provenance": [],
      "authorship_tag": "ABX9TyOVTjNBto7Naq62ef9dOu10",
      "include_colab_link": true
    },
    "kernelspec": {
      "name": "python3",
      "display_name": "Python 3"
    },
    "language_info": {
      "name": "python"
    }
  },
  "cells": [
    {
      "cell_type": "markdown",
      "metadata": {
        "id": "view-in-github",
        "colab_type": "text"
      },
      "source": [
        "<a href=\"https://colab.research.google.com/github/citrasafira/tugaspbo/blob/main/citrapbo.ipynb\" target=\"_parent\"><img src=\"https://colab.research.google.com/assets/colab-badge.svg\" alt=\"Open In Colab\"/></a>"
      ]
    },
    {
      "cell_type": "code",
      "execution_count": null,
      "metadata": {
        "colab": {
          "base_uri": "https://localhost:8080/"
        },
        "id": "ZhyHT9Cd6px4",
        "outputId": "c0ef9128-e78a-4349-b874-226d3aa274f6"
      },
      "outputs": [
        {
          "output_type": "stream",
          "name": "stdout",
          "text": [
            "1\n",
            "2\n",
            "3\n",
            "4\n",
            "5\n",
            "6\n",
            "7\n",
            "8\n",
            "9\n",
            "citra\n",
            "citra\n",
            "citra\n",
            "11\n",
            "12\n",
            "13\n",
            "14\n",
            "15\n",
            "16\n",
            "17\n",
            "18\n",
            "19\n",
            "citra\n",
            "citra\n",
            "citra\n",
            "21\n",
            "22\n",
            "23\n",
            "24\n",
            "25\n",
            "26\n",
            "27\n",
            "28\n",
            "29\n",
            "citra\n",
            "citra\n",
            "citra\n",
            "31\n",
            "32\n",
            "33\n",
            "34\n",
            "35\n",
            "36\n",
            "37\n",
            "38\n",
            "39\n",
            "citra\n",
            "citra\n",
            "citra\n",
            "41\n",
            "42\n",
            "43\n",
            "44\n",
            "45\n",
            "46\n",
            "47\n",
            "48\n",
            "49\n",
            "citra\n",
            "citra\n",
            "citra\n",
            "51\n",
            "52\n",
            "53\n",
            "54\n",
            "55\n",
            "56\n",
            "57\n",
            "58\n",
            "59\n",
            "citra\n",
            "citra\n",
            "citra\n",
            "61\n",
            "62\n",
            "63\n",
            "64\n",
            "65\n",
            "66\n",
            "67\n",
            "68\n",
            "69\n",
            "citra\n",
            "citra\n",
            "citra\n",
            "71\n",
            "72\n",
            "73\n",
            "74\n",
            "75\n",
            "76\n",
            "77\n",
            "78\n",
            "79\n",
            "citra\n",
            "citra\n",
            "citra\n",
            "81\n",
            "82\n",
            "83\n",
            "84\n",
            "85\n",
            "86\n",
            "87\n",
            "88\n",
            "89\n",
            "citra\n",
            "citra\n",
            "citra\n",
            "91\n",
            "92\n",
            "93\n",
            "94\n",
            "95\n",
            "96\n",
            "97\n",
            "98\n",
            "99\n",
            "citra\n",
            "citra\n",
            "citra\n"
          ]
        }
      ],
      "source": [
        "for i in range(1, 101):\n",
        "    if i % 10 == 0:\n",
        "        for _ in range(3):\n",
        "            print(\"citra\")\n",
        "    else:\n",
        "        print(i)\n"
      ]
    },
    {
      "cell_type": "code",
      "source": [
        "# Program untuk menghitung dan mencetak jumlah angka prima dari 1 hingga 100\n",
        "\n",
        "# Inisialisasi variabel\n",
        "jumlah_prima = 0\n",
        "\n",
        "# Perulangan for\n",
        "for i in range(2, 24):\n",
        "\n",
        "    # Cek apakah angka prima\n",
        "    prima = True\n",
        "    for j in range(2, int(i ** 0.5) + 1):\n",
        "        if i % j == 0:\n",
        "            prima = False\n",
        "            break\n",
        "\n",
        "    # Cetak angka jika prima\n",
        "    if prima:\n",
        "        jumlah_prima += 1\n",
        "        print(i)\n",
        "\n",
        "# Cetak jumlah angka prima\n",
        "print(\"Jumlah angka prima:\", jumlah_prima)\n"
      ],
      "metadata": {
        "colab": {
          "base_uri": "https://localhost:8080/"
        },
        "id": "xe1-b1j-COsA",
        "outputId": "900dbb61-0dfd-46ba-ba18-f1e9c4b05d08"
      },
      "execution_count": null,
      "outputs": [
        {
          "output_type": "stream",
          "name": "stdout",
          "text": [
            "2\n",
            "3\n",
            "5\n",
            "7\n",
            "11\n",
            "13\n",
            "17\n",
            "19\n",
            "23\n",
            "Jumlah angka prima: 9\n"
          ]
        }
      ]
    },
    {
      "cell_type": "code",
      "source": [
        "# While Loop dengan if else\n",
        "j = 1\n",
        "while j <= 24:\n",
        "    if j % 3 == 0:\n",
        "        print(\"Kelipatan 3\")\n",
        "    else:\n",
        "        print(j)\n",
        "    j += 1\n"
      ],
      "metadata": {
        "colab": {
          "base_uri": "https://localhost:8080/"
        },
        "id": "mMh_Xv-QCkwM",
        "outputId": "ce3481df-c9ef-4707-99e7-7322c3b19c21"
      },
      "execution_count": null,
      "outputs": [
        {
          "output_type": "stream",
          "name": "stdout",
          "text": [
            "1\n",
            "2\n",
            "Kelipatan 3\n",
            "4\n",
            "5\n",
            "Kelipatan 3\n",
            "7\n",
            "8\n",
            "Kelipatan 3\n",
            "10\n",
            "11\n",
            "Kelipatan 3\n",
            "13\n",
            "14\n",
            "Kelipatan 3\n",
            "16\n",
            "17\n",
            "Kelipatan 3\n",
            "19\n",
            "20\n",
            "Kelipatan 3\n",
            "22\n",
            "23\n",
            "Kelipatan 3\n"
          ]
        }
      ]
    },
    {
      "cell_type": "code",
      "source": [
        "# Inisialisasi variabel\n",
        "angka = [\n",
        "    \"satu\", \"dua\", \"tiga\", \"empat\", \"lima\", \"enam\", \"tujuh\", \"delapan\", \"sembilan\", \"sepuluh\",\n",
        "]\n",
        "\n",
        "# Perulangan for\n",
        "for i in angka:\n",
        "    print(i)\n"
      ],
      "metadata": {
        "colab": {
          "base_uri": "https://localhost:8080/"
        },
        "id": "-xfVcqlyDnU8",
        "outputId": "6f48c70d-ba38-48d0-df30-ab70a2981e62"
      },
      "execution_count": null,
      "outputs": [
        {
          "output_type": "stream",
          "name": "stdout",
          "text": [
            "satu\n",
            "dua\n",
            "tiga\n",
            "empat\n",
            "lima\n",
            "enam\n",
            "tujuh\n",
            "delapan\n",
            "sembilan\n",
            "sepuluh\n"
          ]
        }
      ]
    }
  ]
}